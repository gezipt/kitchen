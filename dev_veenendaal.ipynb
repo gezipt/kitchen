{
 "cells": [
  {
   "cell_type": "code",
   "execution_count": 51,
   "metadata": {},
   "outputs": [
    {
     "name": "stderr",
     "output_type": "stream",
     "text": [
      "/home/kali/git/kitchen/env/lib/python3.9/site-packages/pandas/io/sql.py:761: UserWarning: pandas only support SQLAlchemy connectable(engine/connection) ordatabase string URI or sqlite3 DBAPI2 connectionother DBAPI2 objects are not tested, please consider using SQLAlchemy\n",
      "  warnings.warn(\n",
      "/home/kali/git/kitchen/env/lib/python3.9/site-packages/pandas/io/sql.py:761: UserWarning: pandas only support SQLAlchemy connectable(engine/connection) ordatabase string URI or sqlite3 DBAPI2 connectionother DBAPI2 objects are not tested, please consider using SQLAlchemy\n",
      "  warnings.warn(\n",
      "/home/kali/git/kitchen/env/lib/python3.9/site-packages/pandas/io/sql.py:761: UserWarning: pandas only support SQLAlchemy connectable(engine/connection) ordatabase string URI or sqlite3 DBAPI2 connectionother DBAPI2 objects are not tested, please consider using SQLAlchemy\n",
      "  warnings.warn(\n",
      "/home/kali/git/kitchen/env/lib/python3.9/site-packages/pandas/io/sql.py:761: UserWarning: pandas only support SQLAlchemy connectable(engine/connection) ordatabase string URI or sqlite3 DBAPI2 connectionother DBAPI2 objects are not tested, please consider using SQLAlchemy\n",
      "  warnings.warn(\n"
     ]
    }
   ],
   "source": [
    "import streamlit as st\n",
    "from streamlit_autorefresh import st_autorefresh\n",
    "from datetime import datetime as dt\n",
    "from datetime import date, timedelta\n",
    "import pandas as pd\n",
    "import psycopg2\n",
    "import altair as alt\n",
    "import os\n",
    "import solaredge\n",
    "from dotenv import load_dotenv\n",
    "load_dotenv()\n",
    "alt.renderers.enable('mimetype')\n",
    "\n",
    "user = os.getenv('HAA_DB_USER')\n",
    "password = os.getenv('HAA_DB_PASSWORD')\n",
    "host = os.getenv('HAA_DB_HOST')\n",
    "se_token = os.getenv('HAA_SOLAREDGE')\n",
    "se_site_id = os.getenv('HAA_SE_SITE_ID')\n",
    "s = solaredge.Solaredge(se_token)\n",
    "\n",
    "\n",
    "def make_connection():\n",
    "    conn = psycopg2.connect(user=user, password=password, host=host, database='postgres', port=5432)\n",
    "    return conn\n",
    "\n",
    "def get_temperature_total():\n",
    "    conn = make_connection()    \n",
    "    sql = \"select * from temperatuur where tijd > '\"+str(dt.today())[0:10]+\" 00:00:00';\"\n",
    "    df = pd.read_sql_query(sql, con = conn)[['tijd', 'buiten', 'keuken', 'kamer']].set_index('tijd')\n",
    "    return df\n",
    "\n",
    "# temperaturen vandaag\n",
    "def get_temperature(ruimte):\n",
    "    conn = make_connection()\n",
    "    sql = \"select * from temperatuur where tijd > '\"+str(dt.today())[0:10]+\" 00:00:00';\"\n",
    "    df = pd.read_sql_query(sql, con = conn)[['tijd', ruimte]].set_index('tijd')\n",
    "    df['uur'] = df.index.floor('H')\n",
    "    df = df.set_index('uur')\n",
    "    df = df.groupby('uur').mean()\n",
    "    df['tijd'] = df.index\n",
    "\n",
    "    return df\n",
    "\n",
    "buiten = get_temperature('buiten')\n",
    "kamer = get_temperature('kamer')\n",
    "keuken = get_temperature('keuken')\n",
    "alles = get_temperature_total()\n",
    "\n",
    "alles = buiten.buiten.to_list()+keuken.keuken.to_list()+kamer.kamer.to_list()\n",
    "min_value = int(min(alles))\n",
    "max_value = round(max(alles), 0)\n",
    "\n"
   ]
  },
  {
   "cell_type": "code",
   "execution_count": 22,
   "metadata": {},
   "outputs": [
    {
     "data": {
      "text/plain": [
       "uur\n",
       "2022-04-12 00:00:00    6.174600\n",
       "2022-04-12 01:00:00    6.176667\n",
       "2022-04-12 02:00:00    5.968500\n",
       "2022-04-12 03:00:00    5.562167\n",
       "2022-04-12 04:00:00    5.291333\n",
       "2022-04-12 05:00:00    5.100000\n",
       "2022-04-12 06:00:00    4.478833\n",
       "2022-04-12 07:00:00    4.824800\n",
       "2022-04-12 08:00:00    6.572667\n",
       "2022-04-12 09:00:00    7.546500\n",
       "Name: buiten, dtype: float64"
      ]
     },
     "execution_count": 22,
     "metadata": {},
     "output_type": "execute_result"
    }
   ],
   "source": [
    "buiten['buiten']"
   ]
  },
  {
   "cell_type": "code",
   "execution_count": 27,
   "metadata": {},
   "outputs": [
    {
     "data": {
      "text/plain": [
       "1.1666666666666667"
      ]
     },
     "execution_count": 27,
     "metadata": {},
     "output_type": "execute_result"
    }
   ],
   "source": [
    "max(buiten.buiten)\n",
    "min(buiten.buiten)"
   ]
  },
  {
   "cell_type": "code",
   "execution_count": 2,
   "metadata": {},
   "outputs": [],
   "source": [
    "## Plots normaliseren"
   ]
  },
  {
   "cell_type": "code",
   "execution_count": 25,
   "metadata": {},
   "outputs": [
    {
     "data": {
      "application/vnd.vegalite.v4+json": {
       "$schema": "https://vega.github.io/schema/vega-lite/v4.17.0.json",
       "config": {
        "view": {
         "continuousHeight": 300,
         "continuousWidth": 400
        }
       },
       "data": {
        "name": "data-260a6f04c0a94e6c255a75d23ad48fd5"
       },
       "datasets": {
        "data-260a6f04c0a94e6c255a75d23ad48fd5": [
         {
          "buiten": 6.1746,
          "tijd": "2022-04-12T00:00:00"
         },
         {
          "buiten": 6.176666666666667,
          "tijd": "2022-04-12T01:00:00"
         },
         {
          "buiten": 5.9685,
          "tijd": "2022-04-12T02:00:00"
         },
         {
          "buiten": 5.562166666666667,
          "tijd": "2022-04-12T03:00:00"
         },
         {
          "buiten": 5.291333333333333,
          "tijd": "2022-04-12T04:00:00"
         },
         {
          "buiten": 5.1,
          "tijd": "2022-04-12T05:00:00"
         },
         {
          "buiten": 4.478833333333333,
          "tijd": "2022-04-12T06:00:00"
         },
         {
          "buiten": 4.824800000000001,
          "tijd": "2022-04-12T07:00:00"
         },
         {
          "buiten": 6.572666666666667,
          "tijd": "2022-04-12T08:00:00"
         },
         {
          "buiten": 7.5465,
          "tijd": "2022-04-12T09:00:00"
         }
        ]
       },
       "encoding": {
        "x": {
         "field": "tijd",
         "type": "temporal"
        },
        "y": {
         "field": "buiten",
         "scale": {
          "domain": [
           4,
           19
          ]
         },
         "type": "quantitative"
        }
       },
       "mark": "line"
      },
      "text/plain": [
       "<VegaLite 4 object>\n",
       "\n",
       "If you see this message, it means the renderer has not been properly enabled\n",
       "for the frontend that you are using. For more information, see\n",
       "https://altair-viz.github.io/user_guide/troubleshooting.html\n"
      ]
     },
     "execution_count": 25,
     "metadata": {},
     "output_type": "execute_result"
    }
   ],
   "source": [
    "\n",
    "alt.Chart(buiten).mark_line().encode(\n",
    "    x=alt.X('tijd'),\n",
    "    y=alt.Y('buiten', scale=alt.Scale(domain=[min_value, max_value]))\n",
    ")"
   ]
  },
  {
   "cell_type": "code",
   "execution_count": 15,
   "metadata": {},
   "outputs": [
    {
     "data": {
      "text/plain": [
       "[6.1746,\n",
       " 6.176666666666667,\n",
       " 5.9685,\n",
       " 5.562166666666667,\n",
       " 5.291333333333333,\n",
       " 5.1,\n",
       " 4.478833333333333,\n",
       " 4.824800000000001,\n",
       " 6.572666666666667,\n",
       " 7.5465]"
      ]
     },
     "execution_count": 15,
     "metadata": {},
     "output_type": "execute_result"
    }
   ],
   "source": [
    "buiten.buiten.to_list()"
   ]
  },
  {
   "cell_type": "markdown",
   "metadata": {},
   "source": [
    "alt.Chart(df).l"
   ]
  },
  {
   "cell_type": "code",
   "execution_count": 19,
   "metadata": {},
   "outputs": [
    {
     "data": {
      "application/vnd.vegalite.v4+json": {
       "$schema": "https://vega.github.io/schema/vega-lite/v4.17.0.json",
       "config": {
        "view": {
         "continuousHeight": 300,
         "continuousWidth": 400
        }
       },
       "data": {
        "name": "data-85f94e83c47f84781686725cbf855ae1"
       },
       "datasets": {
        "data-85f94e83c47f84781686725cbf855ae1": [
         {
          "kamer": 18.837200000000003,
          "tijd": "2022-04-12T00:00:00"
         },
         {
          "kamer": 18.635166666666667,
          "tijd": "2022-04-12T01:00:00"
         },
         {
          "kamer": 18.3645,
          "tijd": "2022-04-12T02:00:00"
         },
         {
          "kamer": 18.051666666666666,
          "tijd": "2022-04-12T03:00:00"
         },
         {
          "kamer": 17.968500000000002,
          "tijd": "2022-04-12T04:00:00"
         },
         {
          "kamer": 17.8872,
          "tijd": "2022-04-12T05:00:00"
         },
         {
          "kamer": 17.635166666666667,
          "tijd": "2022-04-12T06:00:00"
         },
         {
          "kamer": 17.9624,
          "tijd": "2022-04-12T07:00:00"
         },
         {
          "kamer": 18.93733333333333,
          "tijd": "2022-04-12T08:00:00"
         },
         {
          "kamer": 18.9685,
          "tijd": "2022-04-12T09:00:00"
         }
        ]
       },
       "encoding": {
        "x": {
         "field": "tijd",
         "type": "temporal"
        },
        "y": {
         "field": "kamer",
         "scale": {
          "domain": [
           4,
           19
          ]
         },
         "type": "quantitative"
        }
       },
       "mark": "line"
      },
      "text/plain": [
       "<VegaLite 4 object>\n",
       "\n",
       "If you see this message, it means the renderer has not been properly enabled\n",
       "for the frontend that you are using. For more information, see\n",
       "https://altair-viz.github.io/user_guide/troubleshooting.html\n"
      ]
     },
     "execution_count": 19,
     "metadata": {},
     "output_type": "execute_result"
    }
   ],
   "source": [
    "alt.Chart(kamer).mark_line().encode(\n",
    "    x=alt.X('tijd'),\n",
    "    y=alt.Y('kamer', scale=alt.Scale(domain=[min_value, max_value]))\n",
    ")"
   ]
  },
  {
   "cell_type": "markdown",
   "metadata": {},
   "source": [
    "## solaredge"
   ]
  },
  {
   "cell_type": "code",
   "execution_count": 21,
   "metadata": {},
   "outputs": [],
   "source": [
    "def get_energy(begin, end):\n",
    "    res = s.get_energy_details(se_site_id, begin, end, time_unit='HOUR')\n",
    "    \n",
    "    return res"
   ]
  },
  {
   "cell_type": "code",
   "execution_count": 39,
   "metadata": {},
   "outputs": [],
   "source": [
    "yesterday = date.today() - timedelta(days=1)\n",
    "se_energy = get_energy(str(yesterday)+\" 00:00:00\", str(yesterday)+\" 23:59:59\")"
   ]
  },
  {
   "cell_type": "code",
   "execution_count": 42,
   "metadata": {},
   "outputs": [],
   "source": [
    "se_date = []\n",
    "se_value = []\n",
    "\n",
    "for i in se_energy['energyDetails']['meters'][0]['values']:\n",
    "    se_date.append(i['date'])\n",
    "    if len(i) == 1:\n",
    "        se_value.append(None)\n",
    "    else:\n",
    "        se_value.append(round(i['value'], 1))\n",
    "\n",
    "se_df = pd.DataFrame({'se_date': se_date, 'se_value': se_value})\n",
    "\n",
    "se_df['day'] = se_df.se_date.str[0:10]\n",
    "se_df['hour'] = se_df.se_date.str[10:13]\n",
    "\n"
   ]
  },
  {
   "cell_type": "code",
   "execution_count": 63,
   "metadata": {},
   "outputs": [],
   "source": []
  },
  {
   "cell_type": "code",
   "execution_count": 71,
   "metadata": {},
   "outputs": [
    {
     "data": {
      "application/vnd.vegalite.v4+json": {
       "$schema": "https://vega.github.io/schema/vega-lite/v4.17.0.json",
       "config": {
        "view": {
         "continuousHeight": 300,
         "continuousWidth": 400
        }
       },
       "data": {
        "name": "data-8077537873e5fd9109a98790a3b5674f"
       },
       "datasets": {
        "data-8077537873e5fd9109a98790a3b5674f": [
         {
          "day": "2022-04-11",
          "hour": " 00",
          "se_date": "2022-04-11 00:00:00",
          "se_value": 0
         },
         {
          "day": "2022-04-11",
          "hour": " 01",
          "se_date": "2022-04-11 01:00:00",
          "se_value": 0
         },
         {
          "day": "2022-04-11",
          "hour": " 02",
          "se_date": "2022-04-11 02:00:00",
          "se_value": 0
         },
         {
          "day": "2022-04-11",
          "hour": " 03",
          "se_date": "2022-04-11 03:00:00",
          "se_value": 0
         },
         {
          "day": "2022-04-11",
          "hour": " 04",
          "se_date": "2022-04-11 04:00:00",
          "se_value": 0
         },
         {
          "day": "2022-04-11",
          "hour": " 05",
          "se_date": "2022-04-11 05:00:00",
          "se_value": 0
         },
         {
          "day": "2022-04-11",
          "hour": " 06",
          "se_date": "2022-04-11 06:00:00",
          "se_value": 0
         },
         {
          "day": "2022-04-11",
          "hour": " 07",
          "se_date": "2022-04-11 07:00:00",
          "se_value": 27.6
         },
         {
          "day": "2022-04-11",
          "hour": " 08",
          "se_date": "2022-04-11 08:00:00",
          "se_value": 125.1
         },
         {
          "day": "2022-04-11",
          "hour": " 09",
          "se_date": "2022-04-11 09:00:00",
          "se_value": 413.2
         },
         {
          "day": "2022-04-11",
          "hour": " 10",
          "se_date": "2022-04-11 10:00:00",
          "se_value": 1269
         },
         {
          "day": "2022-04-11",
          "hour": " 11",
          "se_date": "2022-04-11 11:00:00",
          "se_value": 1426.9
         },
         {
          "day": "2022-04-11",
          "hour": " 12",
          "se_date": "2022-04-11 12:00:00",
          "se_value": 1692.1
         },
         {
          "day": "2022-04-11",
          "hour": " 13",
          "se_date": "2022-04-11 13:00:00",
          "se_value": 1708.6
         },
         {
          "day": "2022-04-11",
          "hour": " 14",
          "se_date": "2022-04-11 14:00:00",
          "se_value": 1681.5
         },
         {
          "day": "2022-04-11",
          "hour": " 15",
          "se_date": "2022-04-11 15:00:00",
          "se_value": 1505.5
         },
         {
          "day": "2022-04-11",
          "hour": " 16",
          "se_date": "2022-04-11 16:00:00",
          "se_value": 1231.5
         },
         {
          "day": "2022-04-11",
          "hour": " 17",
          "se_date": "2022-04-11 17:00:00",
          "se_value": 848
         },
         {
          "day": "2022-04-11",
          "hour": " 18",
          "se_date": "2022-04-11 18:00:00",
          "se_value": 331.2
         },
         {
          "day": "2022-04-11",
          "hour": " 19",
          "se_date": "2022-04-11 19:00:00",
          "se_value": 73.3
         },
         {
          "day": "2022-04-11",
          "hour": " 20",
          "se_date": "2022-04-11 20:00:00",
          "se_value": 0.8
         },
         {
          "day": "2022-04-11",
          "hour": " 21",
          "se_date": "2022-04-11 21:00:00",
          "se_value": 0
         },
         {
          "day": "2022-04-11",
          "hour": " 22",
          "se_date": "2022-04-11 22:00:00",
          "se_value": 0
         },
         {
          "day": "2022-04-11",
          "hour": " 23",
          "se_date": "2022-04-11 23:00:00",
          "se_value": 0
         },
         {
          "day": "2022-04-12",
          "hour": " 00",
          "se_date": "2022-04-12 00:00:00",
          "se_value": 0
         },
         {
          "day": "2022-04-12",
          "hour": " 01",
          "se_date": "2022-04-12 01:00:00",
          "se_value": 0
         },
         {
          "day": "2022-04-12",
          "hour": " 02",
          "se_date": "2022-04-12 02:00:00",
          "se_value": 0
         },
         {
          "day": "2022-04-12",
          "hour": " 03",
          "se_date": "2022-04-12 03:00:00",
          "se_value": 0
         },
         {
          "day": "2022-04-12",
          "hour": " 04",
          "se_date": "2022-04-12 04:00:00",
          "se_value": 0
         },
         {
          "day": "2022-04-12",
          "hour": " 05",
          "se_date": "2022-04-12 05:00:00",
          "se_value": 0
         },
         {
          "day": "2022-04-12",
          "hour": " 06",
          "se_date": "2022-04-12 06:00:00",
          "se_value": 0
         },
         {
          "day": "2022-04-12",
          "hour": " 07",
          "se_date": "2022-04-12 07:00:00",
          "se_value": 95.1
         }
        ]
       },
       "encoding": {
        "color": {
         "field": "day",
         "scale": {
          "range": [
           "#66c2a5",
           "grey"
          ]
         },
         "type": "nominal"
        },
        "x": {
         "field": "hour",
         "type": "nominal"
        },
        "y": {
         "field": "se_value",
         "type": "quantitative"
        }
       },
       "mark": "line"
      },
      "text/plain": [
       "<VegaLite 4 object>\n",
       "\n",
       "If you see this message, it means the renderer has not been properly enabled\n",
       "for the frontend that you are using. For more information, see\n",
       "https://altair-viz.github.io/user_guide/troubleshooting.html\n"
      ]
     },
     "execution_count": 71,
     "metadata": {},
     "output_type": "execute_result"
    }
   ],
   "source": [
    "alt.Chart(se_df).mark_line().encode(\n",
    "    x='hour',\n",
    "    y='se_value',\n",
    "    #color = 'day',\n",
    "    color=alt.Color('day',scale=alt.Scale(range= ['#1f77b4', 'grey']))\n",
    ")\n",
    "#st.altair_chart(line_se)"
   ]
  },
  {
   "cell_type": "code",
   "execution_count": 58,
   "metadata": {},
   "outputs": [
    {
     "data": {
      "text/html": [
       "<div>\n",
       "<style scoped>\n",
       "    .dataframe tbody tr th:only-of-type {\n",
       "        vertical-align: middle;\n",
       "    }\n",
       "\n",
       "    .dataframe tbody tr th {\n",
       "        vertical-align: top;\n",
       "    }\n",
       "\n",
       "    .dataframe thead th {\n",
       "        text-align: right;\n",
       "    }\n",
       "</style>\n",
       "<table border=\"1\" class=\"dataframe\">\n",
       "  <thead>\n",
       "    <tr style=\"text-align: right;\">\n",
       "      <th></th>\n",
       "      <th>se_date</th>\n",
       "      <th>se_value</th>\n",
       "      <th>day</th>\n",
       "    </tr>\n",
       "  </thead>\n",
       "  <tbody>\n",
       "    <tr>\n",
       "      <th>0</th>\n",
       "      <td>2022-04-11 00:00:00</td>\n",
       "      <td>0.0</td>\n",
       "      <td>2022-04-11</td>\n",
       "    </tr>\n",
       "    <tr>\n",
       "      <th>1</th>\n",
       "      <td>2022-04-11 01:00:00</td>\n",
       "      <td>0.0</td>\n",
       "      <td>2022-04-11</td>\n",
       "    </tr>\n",
       "    <tr>\n",
       "      <th>2</th>\n",
       "      <td>2022-04-11 02:00:00</td>\n",
       "      <td>0.0</td>\n",
       "      <td>2022-04-11</td>\n",
       "    </tr>\n",
       "    <tr>\n",
       "      <th>3</th>\n",
       "      <td>2022-04-11 03:00:00</td>\n",
       "      <td>0.0</td>\n",
       "      <td>2022-04-11</td>\n",
       "    </tr>\n",
       "    <tr>\n",
       "      <th>4</th>\n",
       "      <td>2022-04-11 04:00:00</td>\n",
       "      <td>0.0</td>\n",
       "      <td>2022-04-11</td>\n",
       "    </tr>\n",
       "    <tr>\n",
       "      <th>5</th>\n",
       "      <td>2022-04-11 05:00:00</td>\n",
       "      <td>0.0</td>\n",
       "      <td>2022-04-11</td>\n",
       "    </tr>\n",
       "    <tr>\n",
       "      <th>6</th>\n",
       "      <td>2022-04-11 06:00:00</td>\n",
       "      <td>0.0</td>\n",
       "      <td>2022-04-11</td>\n",
       "    </tr>\n",
       "    <tr>\n",
       "      <th>7</th>\n",
       "      <td>2022-04-11 07:00:00</td>\n",
       "      <td>27.6</td>\n",
       "      <td>2022-04-11</td>\n",
       "    </tr>\n",
       "    <tr>\n",
       "      <th>8</th>\n",
       "      <td>2022-04-11 08:00:00</td>\n",
       "      <td>125.1</td>\n",
       "      <td>2022-04-11</td>\n",
       "    </tr>\n",
       "    <tr>\n",
       "      <th>9</th>\n",
       "      <td>2022-04-11 09:00:00</td>\n",
       "      <td>413.2</td>\n",
       "      <td>2022-04-11</td>\n",
       "    </tr>\n",
       "    <tr>\n",
       "      <th>10</th>\n",
       "      <td>2022-04-11 10:00:00</td>\n",
       "      <td>1269.0</td>\n",
       "      <td>2022-04-11</td>\n",
       "    </tr>\n",
       "    <tr>\n",
       "      <th>11</th>\n",
       "      <td>2022-04-11 11:00:00</td>\n",
       "      <td>1426.9</td>\n",
       "      <td>2022-04-11</td>\n",
       "    </tr>\n",
       "    <tr>\n",
       "      <th>12</th>\n",
       "      <td>2022-04-11 12:00:00</td>\n",
       "      <td>1692.1</td>\n",
       "      <td>2022-04-11</td>\n",
       "    </tr>\n",
       "    <tr>\n",
       "      <th>13</th>\n",
       "      <td>2022-04-11 13:00:00</td>\n",
       "      <td>1708.6</td>\n",
       "      <td>2022-04-11</td>\n",
       "    </tr>\n",
       "    <tr>\n",
       "      <th>14</th>\n",
       "      <td>2022-04-11 14:00:00</td>\n",
       "      <td>1681.5</td>\n",
       "      <td>2022-04-11</td>\n",
       "    </tr>\n",
       "    <tr>\n",
       "      <th>15</th>\n",
       "      <td>2022-04-11 15:00:00</td>\n",
       "      <td>1505.5</td>\n",
       "      <td>2022-04-11</td>\n",
       "    </tr>\n",
       "    <tr>\n",
       "      <th>16</th>\n",
       "      <td>2022-04-11 16:00:00</td>\n",
       "      <td>1231.5</td>\n",
       "      <td>2022-04-11</td>\n",
       "    </tr>\n",
       "    <tr>\n",
       "      <th>17</th>\n",
       "      <td>2022-04-11 17:00:00</td>\n",
       "      <td>848.0</td>\n",
       "      <td>2022-04-11</td>\n",
       "    </tr>\n",
       "    <tr>\n",
       "      <th>18</th>\n",
       "      <td>2022-04-11 18:00:00</td>\n",
       "      <td>331.2</td>\n",
       "      <td>2022-04-11</td>\n",
       "    </tr>\n",
       "    <tr>\n",
       "      <th>19</th>\n",
       "      <td>2022-04-11 19:00:00</td>\n",
       "      <td>73.3</td>\n",
       "      <td>2022-04-11</td>\n",
       "    </tr>\n",
       "    <tr>\n",
       "      <th>20</th>\n",
       "      <td>2022-04-11 20:00:00</td>\n",
       "      <td>0.8</td>\n",
       "      <td>2022-04-11</td>\n",
       "    </tr>\n",
       "    <tr>\n",
       "      <th>21</th>\n",
       "      <td>2022-04-11 21:00:00</td>\n",
       "      <td>0.0</td>\n",
       "      <td>2022-04-11</td>\n",
       "    </tr>\n",
       "    <tr>\n",
       "      <th>22</th>\n",
       "      <td>2022-04-11 22:00:00</td>\n",
       "      <td>0.0</td>\n",
       "      <td>2022-04-11</td>\n",
       "    </tr>\n",
       "    <tr>\n",
       "      <th>23</th>\n",
       "      <td>2022-04-11 23:00:00</td>\n",
       "      <td>0.0</td>\n",
       "      <td>2022-04-11</td>\n",
       "    </tr>\n",
       "    <tr>\n",
       "      <th>24</th>\n",
       "      <td>2022-04-12 00:00:00</td>\n",
       "      <td>0.0</td>\n",
       "      <td>2022-04-12</td>\n",
       "    </tr>\n",
       "    <tr>\n",
       "      <th>25</th>\n",
       "      <td>2022-04-12 01:00:00</td>\n",
       "      <td>0.0</td>\n",
       "      <td>2022-04-12</td>\n",
       "    </tr>\n",
       "    <tr>\n",
       "      <th>26</th>\n",
       "      <td>2022-04-12 02:00:00</td>\n",
       "      <td>0.0</td>\n",
       "      <td>2022-04-12</td>\n",
       "    </tr>\n",
       "    <tr>\n",
       "      <th>27</th>\n",
       "      <td>2022-04-12 03:00:00</td>\n",
       "      <td>0.0</td>\n",
       "      <td>2022-04-12</td>\n",
       "    </tr>\n",
       "    <tr>\n",
       "      <th>28</th>\n",
       "      <td>2022-04-12 04:00:00</td>\n",
       "      <td>0.0</td>\n",
       "      <td>2022-04-12</td>\n",
       "    </tr>\n",
       "    <tr>\n",
       "      <th>29</th>\n",
       "      <td>2022-04-12 05:00:00</td>\n",
       "      <td>0.0</td>\n",
       "      <td>2022-04-12</td>\n",
       "    </tr>\n",
       "    <tr>\n",
       "      <th>30</th>\n",
       "      <td>2022-04-12 06:00:00</td>\n",
       "      <td>0.0</td>\n",
       "      <td>2022-04-12</td>\n",
       "    </tr>\n",
       "    <tr>\n",
       "      <th>31</th>\n",
       "      <td>2022-04-12 07:00:00</td>\n",
       "      <td>95.1</td>\n",
       "      <td>2022-04-12</td>\n",
       "    </tr>\n",
       "  </tbody>\n",
       "</table>\n",
       "</div>"
      ],
      "text/plain": [
       "                se_date  se_value         day\n",
       "0   2022-04-11 00:00:00       0.0  2022-04-11\n",
       "1   2022-04-11 01:00:00       0.0  2022-04-11\n",
       "2   2022-04-11 02:00:00       0.0  2022-04-11\n",
       "3   2022-04-11 03:00:00       0.0  2022-04-11\n",
       "4   2022-04-11 04:00:00       0.0  2022-04-11\n",
       "5   2022-04-11 05:00:00       0.0  2022-04-11\n",
       "6   2022-04-11 06:00:00       0.0  2022-04-11\n",
       "7   2022-04-11 07:00:00      27.6  2022-04-11\n",
       "8   2022-04-11 08:00:00     125.1  2022-04-11\n",
       "9   2022-04-11 09:00:00     413.2  2022-04-11\n",
       "10  2022-04-11 10:00:00    1269.0  2022-04-11\n",
       "11  2022-04-11 11:00:00    1426.9  2022-04-11\n",
       "12  2022-04-11 12:00:00    1692.1  2022-04-11\n",
       "13  2022-04-11 13:00:00    1708.6  2022-04-11\n",
       "14  2022-04-11 14:00:00    1681.5  2022-04-11\n",
       "15  2022-04-11 15:00:00    1505.5  2022-04-11\n",
       "16  2022-04-11 16:00:00    1231.5  2022-04-11\n",
       "17  2022-04-11 17:00:00     848.0  2022-04-11\n",
       "18  2022-04-11 18:00:00     331.2  2022-04-11\n",
       "19  2022-04-11 19:00:00      73.3  2022-04-11\n",
       "20  2022-04-11 20:00:00       0.8  2022-04-11\n",
       "21  2022-04-11 21:00:00       0.0  2022-04-11\n",
       "22  2022-04-11 22:00:00       0.0  2022-04-11\n",
       "23  2022-04-11 23:00:00       0.0  2022-04-11\n",
       "24  2022-04-12 00:00:00       0.0  2022-04-12\n",
       "25  2022-04-12 01:00:00       0.0  2022-04-12\n",
       "26  2022-04-12 02:00:00       0.0  2022-04-12\n",
       "27  2022-04-12 03:00:00       0.0  2022-04-12\n",
       "28  2022-04-12 04:00:00       0.0  2022-04-12\n",
       "29  2022-04-12 05:00:00       0.0  2022-04-12\n",
       "30  2022-04-12 06:00:00       0.0  2022-04-12\n",
       "31  2022-04-12 07:00:00      95.1  2022-04-12"
      ]
     },
     "execution_count": 58,
     "metadata": {},
     "output_type": "execute_result"
    }
   ],
   "source": [
    "se_df"
   ]
  },
  {
   "cell_type": "code",
   "execution_count": 62,
   "metadata": {},
   "outputs": [
    {
     "data": {
      "text/plain": [
       "0      00\n",
       "1      01\n",
       "2      02\n",
       "3      03\n",
       "4      04\n",
       "5      05\n",
       "6      06\n",
       "7      07\n",
       "8      08\n",
       "9      09\n",
       "10     10\n",
       "11     11\n",
       "12     12\n",
       "13     13\n",
       "14     14\n",
       "15     15\n",
       "16     16\n",
       "17     17\n",
       "18     18\n",
       "19     19\n",
       "20     20\n",
       "21     21\n",
       "22     22\n",
       "23     23\n",
       "24     00\n",
       "25     01\n",
       "26     02\n",
       "27     03\n",
       "28     04\n",
       "29     05\n",
       "30     06\n",
       "31     07\n",
       "Name: se_date, dtype: object"
      ]
     },
     "execution_count": 62,
     "metadata": {},
     "output_type": "execute_result"
    }
   ],
   "source": [
    "se_df.se_date.str[10:13]"
   ]
  },
  {
   "cell_type": "code",
   "execution_count": null,
   "metadata": {},
   "outputs": [],
   "source": [
    "alt.Chart(kamer).mark_line().encode(\n",
    "    x=alt.X('tijd'),\n",
    "    y=alt.Y('kamer', scale=alt.Scale(domain=[min_value, max_value]))\n",
    ")"
   ]
  }
 ],
 "metadata": {
  "interpreter": {
   "hash": "ef2e1040cc871c9a8caa491b08a38c9b1b8e12a39cd3814957584b9158d60eaf"
  },
  "kernelspec": {
   "display_name": "Python 3.9.10 ('env': venv)",
   "language": "python",
   "name": "python3"
  },
  "language_info": {
   "codemirror_mode": {
    "name": "ipython",
    "version": 3
   },
   "file_extension": ".py",
   "mimetype": "text/x-python",
   "name": "python",
   "nbconvert_exporter": "python",
   "pygments_lexer": "ipython3",
   "version": "3.9.10"
  },
  "orig_nbformat": 4
 },
 "nbformat": 4,
 "nbformat_minor": 2
}
