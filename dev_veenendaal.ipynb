{
 "cells": [
  {
   "cell_type": "code",
   "execution_count": 3,
   "metadata": {},
   "outputs": [
    {
     "name": "stderr",
     "output_type": "stream",
     "text": [
      "/home/kali/git/kitchen/env/lib/python3.9/site-packages/pandas/io/sql.py:761: UserWarning: pandas only support SQLAlchemy connectable(engine/connection) ordatabase string URI or sqlite3 DBAPI2 connectionother DBAPI2 objects are not tested, please consider using SQLAlchemy\n",
      "  warnings.warn(\n",
      "/home/kali/git/kitchen/env/lib/python3.9/site-packages/pandas/io/sql.py:761: UserWarning: pandas only support SQLAlchemy connectable(engine/connection) ordatabase string URI or sqlite3 DBAPI2 connectionother DBAPI2 objects are not tested, please consider using SQLAlchemy\n",
      "  warnings.warn(\n",
      "/home/kali/git/kitchen/env/lib/python3.9/site-packages/pandas/io/sql.py:761: UserWarning: pandas only support SQLAlchemy connectable(engine/connection) ordatabase string URI or sqlite3 DBAPI2 connectionother DBAPI2 objects are not tested, please consider using SQLAlchemy\n",
      "  warnings.warn(\n",
      "/home/kali/git/kitchen/env/lib/python3.9/site-packages/pandas/io/sql.py:761: UserWarning: pandas only support SQLAlchemy connectable(engine/connection) ordatabase string URI or sqlite3 DBAPI2 connectionother DBAPI2 objects are not tested, please consider using SQLAlchemy\n",
      "  warnings.warn(\n"
     ]
    }
   ],
   "source": [
    "import streamlit as st\n",
    "from streamlit_autorefresh import st_autorefresh\n",
    "from datetime import datetime as dt\n",
    "import pandas as pd\n",
    "import psycopg2\n",
    "import altair as alt\n",
    "import os\n",
    "from dotenv import load_dotenv\n",
    "\n",
    "load_dotenv()\n",
    "\n",
    "user = os.getenv('HAA_DB_USER')\n",
    "password = os.getenv('HAA_DB_PASSWORD')\n",
    "host = os.getenv('HAA_DB_HOST')\n",
    "\n",
    "\n",
    "def make_connection():\n",
    "    conn = psycopg2.connect(user=user, password=password, host=host, database='postgres', port=5432)\n",
    "    return conn\n",
    "\n",
    "def get_temperature_total():\n",
    "    conn = make_connection()    \n",
    "    sql = \"select * from temperatuur where tijd > '\"+str(dt.today())[0:10]+\" 00:00:00';\"\n",
    "    df = pd.read_sql_query(sql, con = conn)[['tijd', 'buiten', 'keuken', 'kamer']].set_index('tijd')\n",
    "    return df\n",
    "\n",
    "# temperaturen vandaag\n",
    "def get_temperature(ruimte):\n",
    "    conn = make_connection()\n",
    "    sql = \"select * from temperatuur where tijd > '\"+str(dt.today())[0:10]+\" 00:00:00';\"\n",
    "    df = pd.read_sql_query(sql, con = conn)[['tijd', ruimte]].set_index('tijd')\n",
    "    df['uur'] = df.index.floor('H')\n",
    "    df = df.set_index('uur')\n",
    "    df = df.groupby('uur').mean()\n",
    "    df['tijd'] = df.index\n",
    "\n",
    "    return df\n",
    "\n",
    "buiten = get_temperature('buiten')\n",
    "kamer = get_temperature('kamer')\n",
    "keuken = get_temperature('keuken')\n",
    "alles = get_temperature_total()\n",
    "\n",
    "alles = buiten.buiten.to_list()+keuken.keuken.to_list()+kamer.kamer.to_list()\n",
    "min_value = int(min(alles))\n",
    "max_value = round(max(alles), 0)\n",
    "\n"
   ]
  },
  {
   "cell_type": "code",
   "execution_count": 10,
   "metadata": {},
   "outputs": [
    {
     "data": {
      "text/html": [
       "<div>\n",
       "<style scoped>\n",
       "    .dataframe tbody tr th:only-of-type {\n",
       "        vertical-align: middle;\n",
       "    }\n",
       "\n",
       "    .dataframe tbody tr th {\n",
       "        vertical-align: top;\n",
       "    }\n",
       "\n",
       "    .dataframe thead th {\n",
       "        text-align: right;\n",
       "    }\n",
       "</style>\n",
       "<table border=\"1\" class=\"dataframe\">\n",
       "  <thead>\n",
       "    <tr style=\"text-align: right;\">\n",
       "      <th></th>\n",
       "      <th>buiten</th>\n",
       "    </tr>\n",
       "    <tr>\n",
       "      <th>uur</th>\n",
       "      <th></th>\n",
       "    </tr>\n",
       "  </thead>\n",
       "  <tbody>\n",
       "    <tr>\n",
       "      <th>2022-04-11 00:00:00</th>\n",
       "      <td>2.512200</td>\n",
       "    </tr>\n",
       "    <tr>\n",
       "      <th>2022-04-11 01:00:00</th>\n",
       "      <td>2.155833</td>\n",
       "    </tr>\n",
       "    <tr>\n",
       "      <th>2022-04-11 02:00:00</th>\n",
       "      <td>1.749833</td>\n",
       "    </tr>\n",
       "    <tr>\n",
       "      <th>2022-04-11 03:00:00</th>\n",
       "      <td>1.416667</td>\n",
       "    </tr>\n",
       "    <tr>\n",
       "      <th>2022-04-11 04:00:00</th>\n",
       "      <td>1.166667</td>\n",
       "    </tr>\n",
       "  </tbody>\n",
       "</table>\n",
       "</div>"
      ],
      "text/plain": [
       "                       buiten\n",
       "uur                          \n",
       "2022-04-11 00:00:00  2.512200\n",
       "2022-04-11 01:00:00  2.155833\n",
       "2022-04-11 02:00:00  1.749833\n",
       "2022-04-11 03:00:00  1.416667\n",
       "2022-04-11 04:00:00  1.166667"
      ]
     },
     "execution_count": 10,
     "metadata": {},
     "output_type": "execute_result"
    }
   ],
   "source": [
    "buiten.head()"
   ]
  },
  {
   "cell_type": "code",
   "execution_count": 27,
   "metadata": {},
   "outputs": [
    {
     "data": {
      "text/plain": [
       "1.1666666666666667"
      ]
     },
     "execution_count": 27,
     "metadata": {},
     "output_type": "execute_result"
    }
   ],
   "source": [
    "max(buiten.buiten)\n",
    "min(buiten.buiten)"
   ]
  },
  {
   "cell_type": "code",
   "execution_count": 2,
   "metadata": {},
   "outputs": [],
   "source": [
    "## Plots normaliseren"
   ]
  },
  {
   "cell_type": "markdown",
   "metadata": {},
   "source": [
    "def get_min_max():\n"
   ]
  },
  {
   "cell_type": "code",
   "execution_count": 23,
   "metadata": {},
   "outputs": [
    {
     "data": {
      "application/vnd.vegalite.v4+json": {
       "$schema": "https://vega.github.io/schema/vega-lite/v4.17.0.json",
       "config": {
        "view": {
         "continuousHeight": 300,
         "continuousWidth": 400
        }
       },
       "data": {
        "name": "data-8fb5300bcba4ade84b2be0ca608098e9"
       },
       "datasets": {
        "data-8fb5300bcba4ade84b2be0ca608098e9": [
         {
          "buiten": 2.5122,
          "tijd": "2022-04-11T00:00:00"
         },
         {
          "buiten": 2.1558333333333333,
          "tijd": "2022-04-11T01:00:00"
         },
         {
          "buiten": 1.7498333333333334,
          "tijd": "2022-04-11T02:00:00"
         },
         {
          "buiten": 1.4166666666666667,
          "tijd": "2022-04-11T03:00:00"
         },
         {
          "buiten": 1.1666666666666667,
          "tijd": "2022-04-11T04:00:00"
         },
         {
          "buiten": 1.2185,
          "tijd": "2022-04-11T05:00:00"
         },
         {
          "buiten": 1.9268333333333334,
          "tijd": "2022-04-11T06:00:00"
         },
         {
          "buiten": 2.5496,
          "tijd": "2022-04-11T07:00:00"
         },
         {
          "buiten": 3.885,
          "tijd": "2022-04-11T08:00:00"
         },
         {
          "buiten": 5.999666666666667,
          "tijd": "2022-04-11T09:00:00"
         },
         {
          "buiten": 7.155833333333334,
          "tijd": "2022-04-11T10:00:00"
         },
         {
          "buiten": 8.437166666666666,
          "tijd": "2022-04-11T11:00:00"
         },
         {
          "buiten": 9.541666666666666,
          "tijd": "2022-04-11T12:00:00"
         },
         {
          "buiten": 10.239333333333333,
          "tijd": "2022-04-11T13:00:00"
         },
         {
          "buiten": 10.6455,
          "tijd": "2022-04-11T14:00:00"
         },
         {
          "buiten": 11.3905,
          "tijd": "2022-04-11T15:00:00"
         }
        ]
       },
       "encoding": {
        "x": {
         "field": "tijd",
         "type": "temporal"
        },
        "y": {
         "field": "buiten",
         "scale": {
          "domain": [
           0,
           15
          ]
         },
         "type": "quantitative"
        }
       },
       "mark": "line"
      },
      "text/plain": [
       "<VegaLite 4 object>\n",
       "\n",
       "If you see this message, it means the renderer has not been properly enabled\n",
       "for the frontend that you are using. For more information, see\n",
       "https://altair-viz.github.io/user_guide/troubleshooting.html\n"
      ]
     },
     "execution_count": 23,
     "metadata": {},
     "output_type": "execute_result"
    }
   ],
   "source": [
    "alt.renderers.enable('mimetype')\n",
    "alt.Chart(buiten).mark_line().encode(\n",
    "    x=alt.X('tijd'),\n",
    "    y=alt.Y('buiten', scale=alt.Scale(domain=[min_value, max_value]))\n",
    ")"
   ]
  },
  {
   "cell_type": "markdown",
   "metadata": {},
   "source": [
    "alt.Chart(df).l"
   ]
  }
 ],
 "metadata": {
  "interpreter": {
   "hash": "ef2e1040cc871c9a8caa491b08a38c9b1b8e12a39cd3814957584b9158d60eaf"
  },
  "kernelspec": {
   "display_name": "Python 3.9.10 ('env': venv)",
   "language": "python",
   "name": "python3"
  },
  "language_info": {
   "codemirror_mode": {
    "name": "ipython",
    "version": 3
   },
   "file_extension": ".py",
   "mimetype": "text/x-python",
   "name": "python",
   "nbconvert_exporter": "python",
   "pygments_lexer": "ipython3",
   "version": "3.9.10"
  },
  "orig_nbformat": 4
 },
 "nbformat": 4,
 "nbformat_minor": 2
}
